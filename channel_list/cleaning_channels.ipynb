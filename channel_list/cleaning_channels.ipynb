{
 "cells": [
  {
   "cell_type": "markdown",
   "metadata": {},
   "source": [
    "# Cleaning Master List of Channels"
   ]
  },
  {
   "cell_type": "markdown",
   "metadata": {},
   "source": [
    "Code to visualize and perform cleaning task on master list of channels. \n",
    "\n",
    "Data obtained from Ministry of Information and Broadcasting, Govt. of India."
   ]
  },
  {
   "cell_type": "code",
   "execution_count": 41,
   "metadata": {},
   "outputs": [],
   "source": [
    "import pandas as pd"
   ]
  },
  {
   "cell_type": "markdown",
   "metadata": {
    "heading_collapsed": true
   },
   "source": [
    "### Loading Data Set"
   ]
  },
  {
   "cell_type": "code",
   "execution_count": 42,
   "metadata": {
    "hidden": true
   },
   "outputs": [
    {
     "data": {
      "text/html": [
       "<div>\n",
       "<style scoped>\n",
       "    .dataframe tbody tr th:only-of-type {\n",
       "        vertical-align: middle;\n",
       "    }\n",
       "\n",
       "    .dataframe tbody tr th {\n",
       "        vertical-align: top;\n",
       "    }\n",
       "\n",
       "    .dataframe thead th {\n",
       "        text-align: right;\n",
       "    }\n",
       "</style>\n",
       "<table border=\"1\" class=\"dataframe\">\n",
       "  <thead>\n",
       "    <tr style=\"text-align: right;\">\n",
       "      <th></th>\n",
       "      <th>Sr. No.</th>\n",
       "      <th>Channel Name</th>\n",
       "      <th>Name of the Company</th>\n",
       "      <th>Category</th>\n",
       "      <th>Upliniking/\n",
       "Downlinkin/ Uplinking Only</th>\n",
       "      <th>Language</th>\n",
       "      <th>Date of Permission</th>\n",
       "    </tr>\n",
       "  </thead>\n",
       "  <tbody>\n",
       "    <tr>\n",
       "      <th>0</th>\n",
       "      <td>1.0</td>\n",
       "      <td>9X</td>\n",
       "      <td>9X MEDIA PRIVATE LIMITED</td>\n",
       "      <td>NON-NEWS</td>\n",
       "      <td>UPLINKING</td>\n",
       "      <td>HINDI</td>\n",
       "      <td>2007-09-24</td>\n",
       "    </tr>\n",
       "    <tr>\n",
       "      <th>1</th>\n",
       "      <td>2.0</td>\n",
       "      <td>9XM</td>\n",
       "      <td>9X MEDIA PRIVATE LIMITED</td>\n",
       "      <td>NON-NEWS</td>\n",
       "      <td>UPLINKING</td>\n",
       "      <td>/BENGALI&amp;ALL INDIAN  INDIAN SCHED</td>\n",
       "      <td>2007-09-24</td>\n",
       "    </tr>\n",
       "    <tr>\n",
       "      <th>2</th>\n",
       "      <td>3.0</td>\n",
       "      <td>9XO (9XM VELVET)</td>\n",
       "      <td>9X MEDIA PRIVATE LIMITED</td>\n",
       "      <td>NON-NEWS</td>\n",
       "      <td>UPLINKING</td>\n",
       "      <td>HINDI</td>\n",
       "      <td>2011-09-29</td>\n",
       "    </tr>\n",
       "    <tr>\n",
       "      <th>3</th>\n",
       "      <td>4.0</td>\n",
       "      <td>9X JHAKAAS (9X MARATHI)</td>\n",
       "      <td>9X MEDIA PRIVATE LIMITED</td>\n",
       "      <td>NON-NEWS</td>\n",
       "      <td>UPLINKING</td>\n",
       "      <td>MARATHI</td>\n",
       "      <td>2011-09-29</td>\n",
       "    </tr>\n",
       "    <tr>\n",
       "      <th>4</th>\n",
       "      <td>5.0</td>\n",
       "      <td>9X JALWA (PHIR SE 9X)</td>\n",
       "      <td>9X MEDIA PRIVATE LIMITED</td>\n",
       "      <td>NON-NEWS</td>\n",
       "      <td>UPLINKING</td>\n",
       "      <td>HINDI/ENGLISH /BENGALI&amp;ALL\\nINDIAN  INDIAN SCH...</td>\n",
       "      <td>2011-09-29</td>\n",
       "    </tr>\n",
       "  </tbody>\n",
       "</table>\n",
       "</div>"
      ],
      "text/plain": [
       "   Sr. No.             Channel Name       Name of the Company  Category  \\\n",
       "0      1.0                       9X  9X MEDIA PRIVATE LIMITED  NON-NEWS   \n",
       "1      2.0                      9XM  9X MEDIA PRIVATE LIMITED  NON-NEWS   \n",
       "2      3.0         9XO (9XM VELVET)  9X MEDIA PRIVATE LIMITED  NON-NEWS   \n",
       "3      4.0  9X JHAKAAS (9X MARATHI)  9X MEDIA PRIVATE LIMITED  NON-NEWS   \n",
       "4      5.0    9X JALWA (PHIR SE 9X)  9X MEDIA PRIVATE LIMITED  NON-NEWS   \n",
       "\n",
       "  Upliniking/\\nDownlinkin/ Uplinking Only  \\\n",
       "0                               UPLINKING   \n",
       "1                               UPLINKING   \n",
       "2                               UPLINKING   \n",
       "3                               UPLINKING   \n",
       "4                               UPLINKING   \n",
       "\n",
       "                                            Language Date of Permission  \n",
       "0                                              HINDI         2007-09-24  \n",
       "1                  /BENGALI&ALL INDIAN  INDIAN SCHED         2007-09-24  \n",
       "2                                              HINDI         2011-09-29  \n",
       "3                                            MARATHI         2011-09-29  \n",
       "4  HINDI/ENGLISH /BENGALI&ALL\\nINDIAN  INDIAN SCH...         2011-09-29  "
      ]
     },
     "execution_count": 42,
     "metadata": {},
     "output_type": "execute_result"
    }
   ],
   "source": [
    "df = pd.read_excel('channel_list/master_channel_list.xlsx', header=1)\n",
    "df.head()"
   ]
  },
  {
   "cell_type": "code",
   "execution_count": 43,
   "metadata": {
    "hidden": true
   },
   "outputs": [
    {
     "data": {
      "text/plain": [
       "(876, 7)"
      ]
     },
     "execution_count": 43,
     "metadata": {},
     "output_type": "execute_result"
    }
   ],
   "source": [
    "df.shape"
   ]
  },
  {
   "cell_type": "code",
   "execution_count": 44,
   "metadata": {
    "hidden": true
   },
   "outputs": [
    {
     "data": {
      "text/plain": [
       "Index(['Sr. No.', 'Channel Name', 'Name of the Company', 'Category',\n",
       "       'Upliniking/\\nDownlinkin/ Uplinking Only', 'Language',\n",
       "       'Date of Permission'],\n",
       "      dtype='object')"
      ]
     },
     "execution_count": 44,
     "metadata": {},
     "output_type": "execute_result"
    }
   ],
   "source": [
    "df.columns"
   ]
  },
  {
   "cell_type": "code",
   "execution_count": 45,
   "metadata": {
    "hidden": true
   },
   "outputs": [
    {
     "data": {
      "text/html": [
       "<div>\n",
       "<style scoped>\n",
       "    .dataframe tbody tr th:only-of-type {\n",
       "        vertical-align: middle;\n",
       "    }\n",
       "\n",
       "    .dataframe tbody tr th {\n",
       "        vertical-align: top;\n",
       "    }\n",
       "\n",
       "    .dataframe thead th {\n",
       "        text-align: right;\n",
       "    }\n",
       "</style>\n",
       "<table border=\"1\" class=\"dataframe\">\n",
       "  <thead>\n",
       "    <tr style=\"text-align: right;\">\n",
       "      <th></th>\n",
       "      <th>Sr. No.</th>\n",
       "      <th>Channel Name</th>\n",
       "      <th>Name of the Company</th>\n",
       "      <th>Category</th>\n",
       "      <th>Upliniking/\n",
       "Downlinkin/ Uplinking Only</th>\n",
       "      <th>Language</th>\n",
       "      <th>Date of Permission</th>\n",
       "    </tr>\n",
       "  </thead>\n",
       "  <tbody>\n",
       "    <tr>\n",
       "      <th>871</th>\n",
       "      <td>872.0</td>\n",
       "      <td>Ezmall.com</td>\n",
       "      <td>Zee Media Corporation Ltd. (Earlier\\nknown as ...</td>\n",
       "      <td>NEWS</td>\n",
       "      <td>UPLINKING</td>\n",
       "      <td>English, Hindi and all Scheduled Indian\\nLangu...</td>\n",
       "      <td>2017-10-23</td>\n",
       "    </tr>\n",
       "    <tr>\n",
       "      <th>872</th>\n",
       "      <td>873.0</td>\n",
       "      <td>PLANET NEWS (earlier ZEUS NEWS)</td>\n",
       "      <td>ZEUS NETWORKING PRIVATE\\nLIMITED</td>\n",
       "      <td>NEWS</td>\n",
       "      <td>UPLINKING</td>\n",
       "      <td>HINDI</td>\n",
       "      <td>2011-10-13</td>\n",
       "    </tr>\n",
       "    <tr>\n",
       "      <th>873</th>\n",
       "      <td>874.0</td>\n",
       "      <td>ZONET</td>\n",
       "      <td>ZONET CABLE TV PRIVATE LIMITED</td>\n",
       "      <td>NEWS</td>\n",
       "      <td>UPLINKING</td>\n",
       "      <td>All Indian Schedule Language</td>\n",
       "      <td>2011-09-30</td>\n",
       "    </tr>\n",
       "    <tr>\n",
       "      <th>874</th>\n",
       "      <td>875.0</td>\n",
       "      <td>Movies Now         (Earlier known as\\nZOOM DIVA)</td>\n",
       "      <td>ZOOM ENTERTAINMENT NETWORK\\nLIMITED</td>\n",
       "      <td>NON-NEWS</td>\n",
       "      <td>UPLINKING</td>\n",
       "      <td>HINDI/ ENGLISH</td>\n",
       "      <td>2008-10-20</td>\n",
       "    </tr>\n",
       "    <tr>\n",
       "      <th>875</th>\n",
       "      <td>NaN</td>\n",
       "      <td>*cancelled by the Ministry due to security den...</td>\n",
       "      <td>NaN</td>\n",
       "      <td>NaN</td>\n",
       "      <td>NaN</td>\n",
       "      <td>NaN</td>\n",
       "      <td>NaT</td>\n",
       "    </tr>\n",
       "  </tbody>\n",
       "</table>\n",
       "</div>"
      ],
      "text/plain": [
       "     Sr. No.                                       Channel Name  \\\n",
       "871    872.0                                         Ezmall.com   \n",
       "872    873.0                    PLANET NEWS (earlier ZEUS NEWS)   \n",
       "873    874.0                                              ZONET   \n",
       "874    875.0   Movies Now         (Earlier known as\\nZOOM DIVA)   \n",
       "875      NaN  *cancelled by the Ministry due to security den...   \n",
       "\n",
       "                                   Name of the Company  Category  \\\n",
       "871  Zee Media Corporation Ltd. (Earlier\\nknown as ...      NEWS   \n",
       "872                   ZEUS NETWORKING PRIVATE\\nLIMITED      NEWS   \n",
       "873                     ZONET CABLE TV PRIVATE LIMITED      NEWS   \n",
       "874                ZOOM ENTERTAINMENT NETWORK\\nLIMITED  NON-NEWS   \n",
       "875                                                NaN       NaN   \n",
       "\n",
       "    Upliniking/\\nDownlinkin/ Uplinking Only  \\\n",
       "871                               UPLINKING   \n",
       "872                               UPLINKING   \n",
       "873                               UPLINKING   \n",
       "874                               UPLINKING   \n",
       "875                                     NaN   \n",
       "\n",
       "                                              Language Date of Permission  \n",
       "871  English, Hindi and all Scheduled Indian\\nLangu...         2017-10-23  \n",
       "872                                              HINDI         2011-10-13  \n",
       "873                       All Indian Schedule Language         2011-09-30  \n",
       "874                                     HINDI/ ENGLISH         2008-10-20  \n",
       "875                                                NaN                NaT  "
      ]
     },
     "execution_count": 45,
     "metadata": {},
     "output_type": "execute_result"
    }
   ],
   "source": [
    "df.tail()"
   ]
  },
  {
   "cell_type": "markdown",
   "metadata": {
    "heading_collapsed": true
   },
   "source": [
    "### Dropping data points with NaN "
   ]
  },
  {
   "cell_type": "code",
   "execution_count": 46,
   "metadata": {
    "hidden": true
   },
   "outputs": [
    {
     "data": {
      "text/plain": [
       "(874, 7)"
      ]
     },
     "execution_count": 46,
     "metadata": {},
     "output_type": "execute_result"
    }
   ],
   "source": [
    "df = df.dropna()\n",
    "df.shape"
   ]
  },
  {
   "cell_type": "code",
   "execution_count": 47,
   "metadata": {
    "hidden": true
   },
   "outputs": [
    {
     "data": {
      "text/plain": [
       "0                         9X\n",
       "1                        9XM\n",
       "2           9XO (9XM VELVET)\n",
       "3    9X JHAKAAS (9X MARATHI)\n",
       "4      9X JALWA (PHIR SE 9X)\n",
       "Name: Channel Name, dtype: object"
      ]
     },
     "execution_count": 47,
     "metadata": {},
     "output_type": "execute_result"
    }
   ],
   "source": [
    "# Picking out the Channel Name column and constructing the series object\n",
    "df = df['Channel Name']\n",
    "df.head()"
   ]
  },
  {
   "cell_type": "markdown",
   "metadata": {
    "heading_collapsed": true
   },
   "source": [
    "### Cleaning Function and Performing Cleaning"
   ]
  },
  {
   "cell_type": "markdown",
   "metadata": {
    "hidden": true
   },
   "source": [
    "Channel names to be composed of all lowercase characters with words separated with a '_'. Strings within p pair of parentheses to be cleaned off. \n",
    "\n",
    "Thus, \"9X JHAKAAS (9X MARATHI)\" becomes \"9x_jhakkas\""
   ]
  },
  {
   "cell_type": "code",
   "execution_count": 48,
   "metadata": {
    "code_folding": [],
    "hidden": true
   },
   "outputs": [],
   "source": [
    "def clean(channel_name):\n",
    "    \"\"\"\n",
    "        Function to peform cleaning on a given channel name\n",
    "        :param channel_name: string to clean\n",
    "        :return: Cleaned String\n",
    "    \"\"\"\n",
    "    return '_'.join(channel_name.split('(')[0].split()).lower()"
   ]
  },
  {
   "cell_type": "code",
   "execution_count": 49,
   "metadata": {
    "hidden": true
   },
   "outputs": [],
   "source": [
    "# Applying clean function on all the rows of the df series\n",
    "cleaned_channels = df.apply(clean)"
   ]
  },
  {
   "cell_type": "code",
   "execution_count": 50,
   "metadata": {
    "hidden": true
   },
   "outputs": [
    {
     "data": {
      "text/plain": [
       "0            9x\n",
       "1           9xm\n",
       "2           9xo\n",
       "3    9x_jhakaas\n",
       "4      9x_jalwa\n",
       "Name: Channel Name, dtype: object"
      ]
     },
     "execution_count": 50,
     "metadata": {},
     "output_type": "execute_result"
    }
   ],
   "source": [
    "cleaned_channels.head()"
   ]
  },
  {
   "cell_type": "code",
   "execution_count": 51,
   "metadata": {
    "hidden": true
   },
   "outputs": [
    {
     "data": {
      "text/plain": [
       "870    zee_uttar_pradesh_uttarakhand\n",
       "871                       ezmall.com\n",
       "872                      planet_news\n",
       "873                            zonet\n",
       "874                       movies_now\n",
       "Name: Channel Name, dtype: object"
      ]
     },
     "execution_count": 51,
     "metadata": {},
     "output_type": "execute_result"
    }
   ],
   "source": [
    "cleaned_channels.tail()"
   ]
  },
  {
   "cell_type": "markdown",
   "metadata": {
    "heading_collapsed": true
   },
   "source": [
    "### Saving cleaned series object to excel file"
   ]
  },
  {
   "cell_type": "code",
   "execution_count": 52,
   "metadata": {
    "hidden": true
   },
   "outputs": [],
   "source": [
    "cleaned_channels.to_excel('channel_list/cleaned_channel.xlsx')"
   ]
  },
  {
   "cell_type": "code",
   "execution_count": null,
   "metadata": {
    "hidden": true
   },
   "outputs": [],
   "source": []
  }
 ],
 "metadata": {
  "kernelspec": {
   "display_name": "Python [conda env:agentx-xargs]",
   "language": "python",
   "name": "conda-env-agentx-xargs-py"
  },
  "language_info": {
   "codemirror_mode": {
    "name": "ipython",
    "version": 3
   },
   "file_extension": ".py",
   "mimetype": "text/x-python",
   "name": "python",
   "nbconvert_exporter": "python",
   "pygments_lexer": "ipython3",
   "version": "3.6.5"
  },
  "varInspector": {
   "cols": {
    "lenName": 16,
    "lenType": 16,
    "lenVar": 40
   },
   "kernels_config": {
    "python": {
     "delete_cmd_postfix": "",
     "delete_cmd_prefix": "del ",
     "library": "var_list.py",
     "varRefreshCmd": "print(var_dic_list())"
    },
    "r": {
     "delete_cmd_postfix": ") ",
     "delete_cmd_prefix": "rm(",
     "library": "var_list.r",
     "varRefreshCmd": "cat(var_dic_list()) "
    }
   },
   "types_to_exclude": [
    "module",
    "function",
    "builtin_function_or_method",
    "instance",
    "_Feature"
   ],
   "window_display": false
  }
 },
 "nbformat": 4,
 "nbformat_minor": 2
}
